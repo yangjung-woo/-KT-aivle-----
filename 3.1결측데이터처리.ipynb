{
 "cells": [
  {
   "cell_type": "markdown",
   "metadata": {},
   "source": [
    "# 3. 데이터 전처리 이해와 실무"
   ]
  },
  {
   "cell_type": "markdown",
   "metadata": {},
   "source": [
    "## 3.1 데이터 정제: 결측 데이터 처리"
   ]
  },
  {
   "cell_type": "markdown",
   "metadata": {},
   "source": [
    "결측치 다루기 (강의 교안)\n",
    "\n",
    "  1. 결측치 제거하기\n",
    "      -  Listwise , Pairwise\n",
    "  2. 결측치 대체하기 \n",
    "      - 일정 값 대체, 선형 값 대체 \n",
    "     "
   ]
  },
  {
   "cell_type": "markdown",
   "metadata": {},
   "source": [
    "**실습 내용 요약**\n",
    "- 예제 데이터 내 결측치를 생성하고, 결측치 제거 및 결측치 대체 방안에 대한 전반적 실습 "
   ]
  },
  {
   "cell_type": "markdown",
   "metadata": {},
   "source": [
    "**실습 데이터**\n",
    "- 전처리 전에 기존 데이터를 copy 해서 가지고 있어야 한다 \n",
    "- 파이썬에서 원본을 잃을 수 있음"
   ]
  },
  {
   "cell_type": "code",
   "execution_count": null,
   "metadata": {},
   "outputs": [],
   "source": [
    "copy_data = DataFrame.copy()"
   ]
  },
  {
   "cell_type": "markdown",
   "metadata": {},
   "source": [
    "**결측치 제거하기**\n",
    "- 결측치 제거 방안\n",
    "    1. listwise delection : 데이터 내 1개 변수값에서 N/A(결측)이 존재하는 경우, 해당 행 제거\n",
    "    2. Pairwise delection : 모든 변수가 N/A(결측)이 존재하는 경우, 해당 행 제거\n",
    "- 결측치 제거 시, 온전한 데이터를 사용한다는 관점은 적용 가능하나 데이터 손실이 발생함"
   ]
  },
  {
   "cell_type": "code",
   "execution_count": null,
   "metadata": {},
   "outputs": [],
   "source": [
    "#listwise 방식\n",
    "Dataframe.dropna() # 결측치 포함한 행 삭제 \n",
    "\n",
    "# Pairwise \n",
    "Dataframe.dropna(how= 'all') # 모든 변수가 N/A인 행 제거 "
   ]
  },
  {
   "cell_type": "markdown",
   "metadata": {},
   "source": [
    "**결측치 대체하기**\n",
    "- 결측치 대체 방안\n",
    " 1. 일정 값 대체: 결측치를 사전 지정 값으로 대체\n",
    " 2. 선형 값 대체: 선형 함수 기반, 앞뒤 record 값을 활용하여 값 대체 \n",
    "- 결측치 대체 시, 가능한 많은 데이터를 사용할 수 있다는 관점에서 유용하나, 실 데이터와의 차이가 존재할 수 있음\n",
    " "
   ]
  },
  {
   "cell_type": "code",
   "execution_count": null,
   "metadata": {},
   "outputs": [],
   "source": [
    "Dataframe['column name'].fillna('C') # 행에서 결측값을 'C' 로 대체 "
   ]
  },
  {
   "cell_type": "code",
   "execution_count": null,
   "metadata": {},
   "outputs": [],
   "source": [
    "DataFrame['column name'].replace(np.nan ,DataFrame['column name'].mean() ) # 행에서 결측값을 평균값으로 대체 \n",
    "Dataframe['column name'].fillna(DataFrame['column name'].mean()) # 위와 동일한 결과 "
   ]
  },
  {
   "cell_type": "markdown",
   "metadata": {},
   "source": [
    "**선형 값 대체**\n",
    "- 데이터 앞 뒤 record 값을 기반으로 결측치 대체(선형보간법)\n"
   ]
  },
  {
   "cell_type": "code",
   "execution_count": null,
   "metadata": {},
   "outputs": [],
   "source": [
    "#선형보간법\n",
    "DataFrame.interpolate()"
   ]
  },
  {
   "cell_type": "markdown",
   "metadata": {},
   "source": [
    "- 선형 값 대체의 경우 데이터의 연속성을 기반으로 연산되므로 신중히 사용"
   ]
  }
 ],
 "metadata": {
  "kernelspec": {
   "display_name": "Python 3",
   "language": "python",
   "name": "python3"
  },
  "language_info": {
   "name": "python",
   "version": "3.9.6"
  }
 },
 "nbformat": 4,
 "nbformat_minor": 2
}
