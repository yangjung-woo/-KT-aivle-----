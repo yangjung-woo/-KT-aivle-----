{
 "cells": [
  {
   "cell_type": "markdown",
   "metadata": {},
   "source": [
    "# 시계열 데이터 기초"
   ]
  },
  {
   "cell_type": "markdown",
   "metadata": {},
   "source": [
    "pd.to_datetime"
   ]
  },
  {
   "cell_type": "code",
   "execution_count": 1,
   "metadata": {},
   "outputs": [],
   "source": [
    "import pandas as pd\n",
    "import numpy as np\n"
   ]
  },
  {
   "cell_type": "code",
   "execution_count": 2,
   "metadata": {},
   "outputs": [
    {
     "name": "stdout",
     "output_type": "stream",
     "text": [
      "DatetimeIndex(['2020-01-01', '2020-02-01', '2020-03-01', '2020-04-01'], dtype='datetime64[ns]', freq=None)\n"
     ]
    }
   ],
   "source": [
    "date = ['2020/01/01', '2020/02/01','2020/03/01', '2020/04/01']\n",
    "date_idx = pd.to_datetime(date) # 날짜 문자열 --> DatetimeIndex\n",
    "\n",
    "print(date_idx)"
   ]
  },
  {
   "cell_type": "code",
   "execution_count": 3,
   "metadata": {},
   "outputs": [
    {
     "data": {
      "text/plain": [
       "array([8, 6, 7, 3])"
      ]
     },
     "execution_count": 3,
     "metadata": {},
     "output_type": "execute_result"
    }
   ],
   "source": [
    "np.random.seed(1) # 고정된 난수만 나오도록 시드 설정 \n",
    "# 3과 10 사이 정수로 구성된 4개의 원소를 가지는 넘파이 난수 배열 생성 \n",
    "random_int = np.random.randint(3,10,size=4)\n",
    "random_int"
   ]
  },
  {
   "cell_type": "code",
   "execution_count": 4,
   "metadata": {},
   "outputs": [
    {
     "data": {
      "text/plain": [
       "2020-01-01    8\n",
       "2020-02-01    6\n",
       "2020-03-01    7\n",
       "2020-04-01    3\n",
       "dtype: int32"
      ]
     },
     "execution_count": 4,
     "metadata": {},
     "output_type": "execute_result"
    }
   ],
   "source": [
    "# 넘파이 배열 시리즈로 변환 \n",
    "series = pd.Series(random_int,index=date_idx)\n",
    "series"
   ]
  },
  {
   "cell_type": "markdown",
   "metadata": {},
   "source": [
    "date 문자열이 'yyyymmdd' 형식이 아니더라도 대부분의 경우에서 *to_datetime*을 사용할 수 있습니다"
   ]
  },
  {
   "cell_type": "code",
   "execution_count": 6,
   "metadata": {},
   "outputs": [
    {
     "data": {
      "text/plain": [
       "DatetimeIndex(['2020-01-01', '2020-01-01', '2020-01-01', '2020-01-01'], dtype='datetime64[ns]', freq=None)"
      ]
     },
     "execution_count": 6,
     "metadata": {},
     "output_type": "execute_result"
    }
   ],
   "source": [
    "# 예제 1) 마침표로 구분된 날짜 \n",
    "date = ['2020,01,01', '2020,02,01','2020,03,01', '2020,04,01']\n",
    "\n",
    "date_idx2 = pd.to_datetime(date) # to_datetime이 알아서 변환해줌 \n",
    "date_idx2"
   ]
  },
  {
   "cell_type": "code",
   "execution_count": 7,
   "metadata": {},
   "outputs": [
    {
     "data": {
      "text/plain": [
       "DatetimeIndex(['2020-01-01', '2020-02-01', '2020-03-01', '2020-04-01'], dtype='datetime64[ns]', freq=None)"
      ]
     },
     "execution_count": 7,
     "metadata": {},
     "output_type": "execute_result"
    }
   ],
   "source": [
    "# 예제 2) 컴마 구분된 날짜 \n",
    "date = ['2020.01.01', '2020.02.01','2020.03.01', '2020.04.01']\n",
    "\n",
    "date_idx3 = pd.to_datetime(date) # to_datetime이 알아서 변환해줌 \n",
    "date_idx3"
   ]
  },
  {
   "cell_type": "code",
   "execution_count": 8,
   "metadata": {},
   "outputs": [
    {
     "data": {
      "text/plain": [
       "DatetimeIndex(['2020-01-01', '2020-02-01', '2020-03-01', '2020-04-01'], dtype='datetime64[ns]', freq=None)"
      ]
     },
     "execution_count": 8,
     "metadata": {},
     "output_type": "execute_result"
    }
   ],
   "source": [
    "# 예제 3) 띄어쓰기로 구분된 날짜 \n",
    "date = ['2020 01 01', '2020 02 01','2020 03 01', '2020 04 01']\n",
    "\n",
    "date_idx4 = pd.to_datetime(date) # to_datetime이 알아서 변환해줌 \n",
    "date_idx4"
   ]
  },
  {
   "cell_type": "markdown",
   "metadata": {},
   "source": [
    "pd.date_range : 시작일 , 종료일을 인수로 넣어주면 다 해주는 좋은 메소드"
   ]
  },
  {
   "cell_type": "code",
   "execution_count": 9,
   "metadata": {},
   "outputs": [
    {
     "data": {
      "text/plain": [
       "DatetimeIndex(['2021-01-01', '2021-01-02', '2021-01-03', '2021-01-04',\n",
       "               '2021-01-05', '2021-01-06', '2021-01-07', '2021-01-08',\n",
       "               '2021-01-09', '2021-01-10',\n",
       "               ...\n",
       "               '2021-12-23', '2021-12-24', '2021-12-25', '2021-12-26',\n",
       "               '2021-12-27', '2021-12-28', '2021-12-29', '2021-12-30',\n",
       "               '2021-12-31', '2022-01-01'],\n",
       "              dtype='datetime64[ns]', length=366, freq='D')"
      ]
     },
     "execution_count": 9,
     "metadata": {},
     "output_type": "execute_result"
    }
   ],
   "source": [
    "pd.date_range('2021-01-01', '2022-01-01')# 시작~종료일 사이 모든 일별 데이터"
   ]
  },
  {
   "cell_type": "code",
   "execution_count": 10,
   "metadata": {},
   "outputs": [
    {
     "data": {
      "text/plain": [
       "DatetimeIndex(['2021-01-31', '2021-02-28', '2021-03-31', '2021-04-30',\n",
       "               '2021-05-31', '2021-06-30', '2021-07-31', '2021-08-31',\n",
       "               '2021-09-30', '2021-10-31', '2021-11-30', '2021-12-31'],\n",
       "              dtype='datetime64[ns]', freq='M')"
      ]
     },
     "execution_count": 10,
     "metadata": {},
     "output_type": "execute_result"
    }
   ],
   "source": [
    "#월별 데이터 출력\n",
    "pd.date_range('2021-01-01', '2022-01-01',freq='M') # freq =M 월별 말일 데이터 생성 "
   ]
  },
  {
   "cell_type": "code",
   "execution_count": 11,
   "metadata": {},
   "outputs": [
    {
     "data": {
      "text/plain": [
       "DatetimeIndex(['2021-01-01', '2021-02-01', '2021-03-01', '2021-04-01',\n",
       "               '2021-05-01', '2021-06-01', '2021-07-01', '2021-08-01',\n",
       "               '2021-09-01', '2021-10-01', '2021-11-01', '2021-12-01',\n",
       "               '2022-01-01'],\n",
       "              dtype='datetime64[ns]', freq='MS')"
      ]
     },
     "execution_count": 11,
     "metadata": {},
     "output_type": "execute_result"
    }
   ],
   "source": [
    "#월별 첫 일\n",
    "pd.date_range('2021-01-01', '2022-01-01',freq='MS') # freq =M 월별 데이터 생성 "
   ]
  },
  {
   "cell_type": "markdown",
   "metadata": {},
   "source": [
    "자주 사용하는 인수 \n",
    "- D : 일반(Default값)\n",
    "- W : 주별(일요알 기준)\n",
    "- W-Mon : wnquf(월요일 기준)\n",
    "- M : 월별(월의 마지막 날)\n",
    "- MS : 월별(월의 첫째 날)\n",
    "- B : 주말을 제외한 평일 인덱스 (i.e 토,일 제외)"
   ]
  },
  {
   "cell_type": "code",
   "execution_count": 12,
   "metadata": {},
   "outputs": [
    {
     "data": {
      "text/plain": [
       "DatetimeIndex(['2020-01-01', '2020-01-02', '2020-01-03', '2020-01-04',\n",
       "               '2020-01-05', '2020-01-06', '2020-01-07', '2020-01-08',\n",
       "               '2020-01-09', '2020-01-10', '2020-01-11', '2020-01-12',\n",
       "               '2020-01-13', '2020-01-14', '2020-01-15', '2020-01-16',\n",
       "               '2020-01-17', '2020-01-18', '2020-01-19', '2020-01-20',\n",
       "               '2020-01-21', '2020-01-22', '2020-01-23', '2020-01-24',\n",
       "               '2020-01-25', '2020-01-26', '2020-01-27', '2020-01-28',\n",
       "               '2020-01-29', '2020-01-30', '2020-01-31', '2020-02-01',\n",
       "               '2020-02-02', '2020-02-03', '2020-02-04', '2020-02-05',\n",
       "               '2020-02-06', '2020-02-07', '2020-02-08', '2020-02-09',\n",
       "               '2020-02-10', '2020-02-11', '2020-02-12', '2020-02-13',\n",
       "               '2020-02-14'],\n",
       "              dtype='datetime64[ns]', freq='D')"
      ]
     },
     "execution_count": 12,
     "metadata": {},
     "output_type": "execute_result"
    }
   ],
   "source": [
    "# 종료일 명시 , x , periods 명시\n",
    "pd.date_range(start='2020-01-01', periods=45)# 일별 데이터로 리턴"
   ]
  },
  {
   "cell_type": "code",
   "execution_count": 13,
   "metadata": {},
   "outputs": [
    {
     "data": {
      "text/plain": [
       "DatetimeIndex(['2020-01-01', '2020-02-01', '2020-03-01', '2020-04-01',\n",
       "               '2020-05-01', '2020-06-01', '2020-07-01', '2020-08-01',\n",
       "               '2020-09-01', '2020-10-01', '2020-11-01', '2020-12-01',\n",
       "               '2021-01-01', '2021-02-01', '2021-03-01', '2021-04-01',\n",
       "               '2021-05-01', '2021-06-01', '2021-07-01', '2021-08-01',\n",
       "               '2021-09-01', '2021-10-01', '2021-11-01', '2021-12-01',\n",
       "               '2022-01-01', '2022-02-01', '2022-03-01', '2022-04-01',\n",
       "               '2022-05-01', '2022-06-01', '2022-07-01', '2022-08-01',\n",
       "               '2022-09-01', '2022-10-01', '2022-11-01', '2022-12-01',\n",
       "               '2023-01-01', '2023-02-01', '2023-03-01', '2023-04-01',\n",
       "               '2023-05-01', '2023-06-01', '2023-07-01', '2023-08-01',\n",
       "               '2023-09-01'],\n",
       "              dtype='datetime64[ns]', freq='MS')"
      ]
     },
     "execution_count": 13,
     "metadata": {},
     "output_type": "execute_result"
    }
   ],
   "source": [
    "# periods , freq 명시\n",
    "pd.date_range(start='2020-01-01', periods=45, freq= 'MS')# 일별 데이터로 리턴"
   ]
  },
  {
   "cell_type": "markdown",
   "metadata": {},
   "source": [
    "시계열의 Shift"
   ]
  },
  {
   "cell_type": "code",
   "execution_count": 14,
   "metadata": {},
   "outputs": [
    {
     "name": "stdout",
     "output_type": "stream",
     "text": [
      "2020-01-01    1.624345\n",
      "2020-02-01   -0.611756\n",
      "2020-03-01   -0.528172\n",
      "2020-04-01   -1.072969\n",
      "2020-05-01    0.865408\n",
      "2020-06-01   -2.301539\n",
      "2020-07-01    1.744812\n",
      "2020-08-01   -0.761207\n",
      "2020-09-01    0.319039\n",
      "2020-10-01   -0.249370\n",
      "2020-11-01    1.462108\n",
      "2020-12-01   -2.060141\n",
      "Freq: MS, dtype: float64\n"
     ]
    }
   ],
   "source": [
    "np.random.seed(1) # 고정된 난수만 나오도록 시드 설정 \n",
    "\n",
    "arr = np.random.randn(12)# 가우시안 정규분포를 따르는 난수 12개 생성\n",
    "\n",
    "ts_idx = pd.date_range(start='2020-01-01', periods=12,freq='MS')\n",
    "\n",
    "ts =pd.Series(arr,index=ts_idx)\n",
    "print(ts)"
   ]
  },
  {
   "cell_type": "code",
   "execution_count": 15,
   "metadata": {},
   "outputs": [
    {
     "data": {
      "text/plain": [
       "2020-01-01         NaN\n",
       "2020-02-01    1.624345\n",
       "2020-03-01   -0.611756\n",
       "2020-04-01   -0.528172\n",
       "2020-05-01   -1.072969\n",
       "2020-06-01    0.865408\n",
       "2020-07-01   -2.301539\n",
       "2020-08-01    1.744812\n",
       "2020-09-01   -0.761207\n",
       "2020-10-01    0.319039\n",
       "2020-11-01   -0.249370\n",
       "2020-12-01    1.462108\n",
       "Freq: MS, dtype: float64"
      ]
     },
     "execution_count": 15,
     "metadata": {},
     "output_type": "execute_result"
    }
   ],
   "source": [
    "# 1개월치 데이터 이동 \n",
    "ts.shift(1)"
   ]
  },
  {
   "cell_type": "code",
   "execution_count": 16,
   "metadata": {},
   "outputs": [
    {
     "data": {
      "text/plain": [
       "2020-01-01         NaN\n",
       "2020-02-01         NaN\n",
       "2020-03-01         NaN\n",
       "2020-04-01         NaN\n",
       "2020-05-01    1.624345\n",
       "2020-06-01   -0.611756\n",
       "2020-07-01   -0.528172\n",
       "2020-08-01   -1.072969\n",
       "2020-09-01    0.865408\n",
       "2020-10-01   -2.301539\n",
       "2020-11-01    1.744812\n",
       "2020-12-01   -0.761207\n",
       "Freq: MS, dtype: float64"
      ]
     },
     "execution_count": 16,
     "metadata": {},
     "output_type": "execute_result"
    }
   ],
   "source": [
    "# 4개월치 데이터 이동 \n",
    "ts.shift(4)"
   ]
  },
  {
   "cell_type": "code",
   "execution_count": 21,
   "metadata": {},
   "outputs": [
    {
     "data": {
      "text/plain": [
       "2020-01-31    1.624345\n",
       "2020-02-29   -0.611756\n",
       "2020-03-31   -0.528172\n",
       "2020-04-30   -1.072969\n",
       "2020-05-31    0.865408\n",
       "2020-06-30   -2.301539\n",
       "2020-07-31    1.744812\n",
       "2020-08-31   -0.761207\n",
       "2020-09-30    0.319039\n",
       "2020-10-31   -0.249370\n",
       "2020-11-30    1.462108\n",
       "2020-12-31   -2.060141\n",
       "dtype: float64"
      ]
     },
     "execution_count": 21,
     "metadata": {},
     "output_type": "execute_result"
    }
   ],
   "source": [
    "# 각 월 척주 일요일을 기준으로 데이터 쉬프트 \n",
    "ts.shift(1,freq='M')"
   ]
  },
  {
   "cell_type": "markdown",
   "metadata": {},
   "source": [
    "diff(n): 행 -n기간전 행"
   ]
  },
  {
   "cell_type": "code",
   "execution_count": 22,
   "metadata": {},
   "outputs": [
    {
     "data": {
      "text/plain": [
       "2020-01-01         NaN\n",
       "2020-02-01   -2.236102\n",
       "2020-03-01    0.083585\n",
       "2020-04-01   -0.544797\n",
       "2020-05-01    1.938376\n",
       "2020-06-01   -3.166946\n",
       "2020-07-01    4.046350\n",
       "2020-08-01   -2.506019\n",
       "2020-09-01    1.080246\n",
       "2020-10-01   -0.568409\n",
       "2020-11-01    1.711478\n",
       "2020-12-01   -3.522249\n",
       "Freq: MS, dtype: float64"
      ]
     },
     "execution_count": 22,
     "metadata": {},
     "output_type": "execute_result"
    }
   ],
   "source": [
    "# 1개월치 차분 값 연산\n",
    "ts.diff(1)# 차분 값 = 현재 달 - 1달 전"
   ]
  },
  {
   "cell_type": "code",
   "execution_count": null,
   "metadata": {},
   "outputs": [],
   "source": [
    "# 연산 방식 \n",
    "ts[2] - ts[1]"
   ]
  },
  {
   "cell_type": "code",
   "execution_count": 23,
   "metadata": {},
   "outputs": [
    {
     "data": {
      "text/plain": [
       "2020-01-01         NaN\n",
       "2020-02-01         NaN\n",
       "2020-03-01         NaN\n",
       "2020-04-01   -2.697314\n",
       "2020-05-01    1.477164\n",
       "2020-06-01   -1.773367\n",
       "2020-07-01    2.817780\n",
       "2020-08-01   -1.626615\n",
       "2020-09-01    2.620578\n",
       "2020-10-01   -1.994182\n",
       "2020-11-01    2.223315\n",
       "2020-12-01   -2.379180\n",
       "Freq: MS, dtype: float64"
      ]
     },
     "execution_count": 23,
     "metadata": {},
     "output_type": "execute_result"
    }
   ],
   "source": [
    "# 3개월치 차분 값 연산 \n",
    "ts.diff(3) # 차분 값 =현재 달 - 3달전"
   ]
  },
  {
   "cell_type": "code",
   "execution_count": 24,
   "metadata": {},
   "outputs": [
    {
     "data": {
      "text/plain": [
       "-2.697313985819412"
      ]
     },
     "execution_count": 24,
     "metadata": {},
     "output_type": "execute_result"
    }
   ],
   "source": [
    "ts[3] - ts[0]"
   ]
  },
  {
   "cell_type": "markdown",
   "metadata": {},
   "source": [
    "resample"
   ]
  },
  {
   "cell_type": "code",
   "execution_count": 30,
   "metadata": {},
   "outputs": [
    {
     "name": "stdout",
     "output_type": "stream",
     "text": [
      "2020-01-01    1.624345\n",
      "2020-01-02   -0.611756\n",
      "2020-01-03   -0.528172\n",
      "2020-01-04   -1.072969\n",
      "2020-01-05    0.865408\n",
      "                ...   \n",
      "2020-12-26   -0.557495\n",
      "2020-12-27    0.939169\n",
      "2020-12-28   -1.943323\n",
      "2020-12-29    0.352494\n",
      "2020-12-30   -0.236437\n",
      "Freq: D, Length: 365, dtype: float64\n"
     ]
    }
   ],
   "source": [
    "np.random.seed(1)\n",
    "\n",
    "arr = np.random.randn(365)# 365일치 난수 생성\n",
    "\n",
    "time_idx = pd.date_range(start='2020-01-01', periods=365,freq='D')# 2020년 365일치 기간 생성\n",
    "ts =pd.Series(arr,index=time_idx)# 1년치 시계열 데이터 생성\n",
    "print(ts)"
   ]
  },
  {
   "cell_type": "markdown",
   "metadata": {},
   "source": [
    "Down-sampling * 실무에서 자주 사용함 "
   ]
  },
  {
   "cell_type": "code",
   "execution_count": 31,
   "metadata": {},
   "outputs": [
    {
     "data": {
      "text/plain": [
       "2020-01-31   -0.080317\n",
       "2020-02-29    0.103058\n",
       "2020-03-31    0.197086\n",
       "2020-04-30   -0.077663\n",
       "2020-05-31    0.105408\n",
       "2020-06-30    0.175223\n",
       "2020-07-31    0.161250\n",
       "2020-08-31    0.025347\n",
       "2020-09-30    0.176468\n",
       "2020-10-31   -0.095381\n",
       "2020-11-30    0.313264\n",
       "2020-12-31   -0.364257\n",
       "Freq: M, dtype: float64"
      ]
     },
     "execution_count": 31,
     "metadata": {},
     "output_type": "execute_result"
    }
   ],
   "source": [
    "#다운샘플링 예제\n",
    "ts.resample('M').mean() # 일별 데이터를 월별로 변환"
   ]
  },
  {
   "cell_type": "markdown",
   "metadata": {},
   "source": [
    "up-sampling * 없는 데이터(NA)가 만들어짐 , 이를 보간하는 방식도 선택해야함"
   ]
  },
  {
   "cell_type": "code",
   "execution_count": null,
   "metadata": {},
   "outputs": [],
   "source": [
    "#업 샘플링 예제\n",
    "arr= np.random.randn(10)# 새로운 난수 10개 생성 \n",
    "ime_idx = pd.date_range(start='2020-01-01', periods=10,freq='W')# 주별 데이터 10개 생성\n",
    "ts = pd.Series(arr,index=time_idx)\n",
    "print(ts)"
   ]
  },
  {
   "cell_type": "markdown",
   "metadata": {},
   "source": [
    "결측치 보간 방법 "
   ]
  },
  {
   "cell_type": "code",
   "execution_count": 32,
   "metadata": {},
   "outputs": [
    {
     "data": {
      "text/plain": [
       "2020-01-01    1.624345\n",
       "2020-01-02   -0.611756\n",
       "2020-01-03   -0.528172\n",
       "2020-01-04   -1.072969\n",
       "2020-01-05    0.865408\n",
       "2020-01-06   -2.301539\n",
       "2020-01-07    1.744812\n",
       "2020-01-08   -0.761207\n",
       "2020-01-09    0.319039\n",
       "2020-01-10   -0.249370\n",
       "2020-01-11    1.462108\n",
       "2020-01-12   -2.060141\n",
       "2020-01-13   -0.322417\n",
       "2020-01-14   -0.384054\n",
       "2020-01-15    1.133769\n",
       "2020-01-16   -1.099891\n",
       "2020-01-17   -0.172428\n",
       "2020-01-18   -0.877858\n",
       "2020-01-19    0.042214\n",
       "2020-01-20    0.582815\n",
       "2020-01-21   -1.100619\n",
       "Freq: D, dtype: float64"
      ]
     },
     "execution_count": 32,
     "metadata": {},
     "output_type": "execute_result"
    }
   ],
   "source": [
    "# toward filling 방식\n",
    "ts.resample('D').ffill().head(21)# ffill: 각 기간의 첫일을 참고하여 결측값 보간"
   ]
  },
  {
   "cell_type": "code",
   "execution_count": 33,
   "metadata": {},
   "outputs": [
    {
     "data": {
      "text/plain": [
       "2020-01-01    1.624345\n",
       "2020-01-02   -0.611756\n",
       "2020-01-03   -0.528172\n",
       "2020-01-04   -1.072969\n",
       "2020-01-05    0.865408\n",
       "2020-01-06   -2.301539\n",
       "2020-01-07    1.744812\n",
       "2020-01-08   -0.761207\n",
       "2020-01-09    0.319039\n",
       "2020-01-10   -0.249370\n",
       "2020-01-11    1.462108\n",
       "2020-01-12   -2.060141\n",
       "2020-01-13   -0.322417\n",
       "2020-01-14   -0.384054\n",
       "2020-01-15    1.133769\n",
       "2020-01-16   -1.099891\n",
       "2020-01-17   -0.172428\n",
       "2020-01-18   -0.877858\n",
       "2020-01-19    0.042214\n",
       "2020-01-20    0.582815\n",
       "2020-01-21   -1.100619\n",
       "Freq: D, dtype: float64"
      ]
     },
     "execution_count": 33,
     "metadata": {},
     "output_type": "execute_result"
    }
   ],
   "source": [
    "# backward filling 방식\n",
    "ts.resample('D').bfill().head(21)# bfill: 각 기간의 마지막 일을 참고하여 결측값 보간"
   ]
  },
  {
   "cell_type": "markdown",
   "metadata": {},
   "source": [
    "# 시계열 데이터 시각화 "
   ]
  },
  {
   "cell_type": "code",
   "execution_count": 2,
   "metadata": {},
   "outputs": [],
   "source": [
    "import numpy as np\n",
    "import pandas as pd\n"
   ]
  },
  {
   "cell_type": "code",
   "execution_count": 3,
   "metadata": {},
   "outputs": [],
   "source": [
    "\n",
    "import matplotlib.pyplot as plt # 그래프 상세 속성 설정 "
   ]
  },
  {
   "cell_type": "code",
   "execution_count": 4,
   "metadata": {},
   "outputs": [
    {
     "data": {
      "text/html": [
       "<div>\n",
       "<style scoped>\n",
       "    .dataframe tbody tr th:only-of-type {\n",
       "        vertical-align: middle;\n",
       "    }\n",
       "\n",
       "    .dataframe tbody tr th {\n",
       "        vertical-align: top;\n",
       "    }\n",
       "\n",
       "    .dataframe thead th {\n",
       "        text-align: right;\n",
       "    }\n",
       "</style>\n",
       "<table border=\"1\" class=\"dataframe\">\n",
       "  <thead>\n",
       "    <tr style=\"text-align: right;\">\n",
       "      <th></th>\n",
       "      <th>0</th>\n",
       "      <th>1</th>\n",
       "      <th>2</th>\n",
       "    </tr>\n",
       "  </thead>\n",
       "  <tbody>\n",
       "    <tr>\n",
       "      <th>2020-01-01</th>\n",
       "      <td>1.624345</td>\n",
       "      <td>-0.611756</td>\n",
       "      <td>-0.528172</td>\n",
       "    </tr>\n",
       "    <tr>\n",
       "      <th>2020-01-02</th>\n",
       "      <td>-1.072969</td>\n",
       "      <td>0.865408</td>\n",
       "      <td>-2.301539</td>\n",
       "    </tr>\n",
       "    <tr>\n",
       "      <th>2020-01-03</th>\n",
       "      <td>1.744812</td>\n",
       "      <td>-0.761207</td>\n",
       "      <td>0.319039</td>\n",
       "    </tr>\n",
       "    <tr>\n",
       "      <th>2020-01-04</th>\n",
       "      <td>-0.249370</td>\n",
       "      <td>1.462108</td>\n",
       "      <td>-2.060141</td>\n",
       "    </tr>\n",
       "    <tr>\n",
       "      <th>2020-01-05</th>\n",
       "      <td>-0.322417</td>\n",
       "      <td>-0.384054</td>\n",
       "      <td>1.133769</td>\n",
       "    </tr>\n",
       "  </tbody>\n",
       "</table>\n",
       "</div>"
      ],
      "text/plain": [
       "                   0         1         2\n",
       "2020-01-01  1.624345 -0.611756 -0.528172\n",
       "2020-01-02 -1.072969  0.865408 -2.301539\n",
       "2020-01-03  1.744812 -0.761207  0.319039\n",
       "2020-01-04 -0.249370  1.462108 -2.060141\n",
       "2020-01-05 -0.322417 -0.384054  1.133769"
      ]
     },
     "execution_count": 4,
     "metadata": {},
     "output_type": "execute_result"
    }
   ],
   "source": [
    "np.random.seed(1)\n",
    "ts_data = np.random.randn(365,3)# (365 x 5) 행렬의 난수 데이터 생성\n",
    "ts_idx = pd.date_range(start = '2020-01-01',periods= 365, freq='D')#365개의 시계열 인덱스 생성\n",
    "\n",
    "ts_df = pd.DataFrame(ts_data,index=ts_idx)# 시계열 데이터 프레임\n",
    "ts_df.head()"
   ]
  },
  {
   "cell_type": "code",
   "execution_count": 5,
   "metadata": {},
   "outputs": [
    {
     "data": {
      "text/html": [
       "<div>\n",
       "<style scoped>\n",
       "    .dataframe tbody tr th:only-of-type {\n",
       "        vertical-align: middle;\n",
       "    }\n",
       "\n",
       "    .dataframe tbody tr th {\n",
       "        vertical-align: top;\n",
       "    }\n",
       "\n",
       "    .dataframe thead th {\n",
       "        text-align: right;\n",
       "    }\n",
       "</style>\n",
       "<table border=\"1\" class=\"dataframe\">\n",
       "  <thead>\n",
       "    <tr style=\"text-align: right;\">\n",
       "      <th></th>\n",
       "      <th>X</th>\n",
       "      <th>Y</th>\n",
       "      <th>Z</th>\n",
       "    </tr>\n",
       "  </thead>\n",
       "  <tbody>\n",
       "    <tr>\n",
       "      <th>2020-01-01</th>\n",
       "      <td>1.624345</td>\n",
       "      <td>-0.611756</td>\n",
       "      <td>-0.528172</td>\n",
       "    </tr>\n",
       "    <tr>\n",
       "      <th>2020-01-02</th>\n",
       "      <td>-1.072969</td>\n",
       "      <td>0.865408</td>\n",
       "      <td>-2.301539</td>\n",
       "    </tr>\n",
       "    <tr>\n",
       "      <th>2020-01-03</th>\n",
       "      <td>1.744812</td>\n",
       "      <td>-0.761207</td>\n",
       "      <td>0.319039</td>\n",
       "    </tr>\n",
       "    <tr>\n",
       "      <th>2020-01-04</th>\n",
       "      <td>-0.249370</td>\n",
       "      <td>1.462108</td>\n",
       "      <td>-2.060141</td>\n",
       "    </tr>\n",
       "    <tr>\n",
       "      <th>2020-01-05</th>\n",
       "      <td>-0.322417</td>\n",
       "      <td>-0.384054</td>\n",
       "      <td>1.133769</td>\n",
       "    </tr>\n",
       "  </tbody>\n",
       "</table>\n",
       "</div>"
      ],
      "text/plain": [
       "                   X         Y         Z\n",
       "2020-01-01  1.624345 -0.611756 -0.528172\n",
       "2020-01-02 -1.072969  0.865408 -2.301539\n",
       "2020-01-03  1.744812 -0.761207  0.319039\n",
       "2020-01-04 -0.249370  1.462108 -2.060141\n",
       "2020-01-05 -0.322417 -0.384054  1.133769"
      ]
     },
     "execution_count": 5,
     "metadata": {},
     "output_type": "execute_result"
    }
   ],
   "source": [
    "ts_df.columns=['X','Y','Z']\n",
    "ts_df.head()"
   ]
  },
  {
   "cell_type": "code",
   "execution_count": 8,
   "metadata": {},
   "outputs": [
    {
     "data": {
      "image/png": "[encoded data removed]",
      "text/plain": [
       "<Figure size 432x288 with 1 Axes>"
      ]
     },
     "metadata": {
      "needs_background": "light"
     },
     "output_type": "display_data"
    }
   ],
   "source": [
    "ts_df.plot()# 단순하게 데이터프레임의 메소드 plot을 호출\n",
    "plt.title(\"Time Series (Normal random)\")\n",
    "plt.show()"
   ]
  },
  {
   "cell_type": "code",
   "execution_count": 9,
   "metadata": {},
   "outputs": [
    {
     "data": {
      "image/png": "[encoded data removed]",
      "text/plain": [
       "<Figure size 432x288 with 1 Axes>"
      ]
     },
     "metadata": {
      "needs_background": "light"
     },
     "output_type": "display_data"
    }
   ],
   "source": [
    "# 누적합 함수를 이용해서 알아보기 쉽게 각 시리즈를 변경\n",
    "ts_df = ts_df.cumsum()\n",
    "ts_df.plot()\n",
    "plt.title(\"Time Series (Normal random)\")\n",
    "plt.show()"
   ]
  }
 ],
 "metadata": {
  "kernelspec": {
   "display_name": "Python 3",
   "language": "python",
   "name": "python3"
  },
  "language_info": {
   "codemirror_mode": {
    "name": "ipython",
    "version": 3
   },
   "file_extension": ".py",
   "mimetype": "text/x-python",
   "name": "python",
   "nbconvert_exporter": "python",
   "pygments_lexer": "ipython3",
   "version": "3.9.6"
  }
 },
 "nbformat": 4,
 "nbformat_minor": 2
}
