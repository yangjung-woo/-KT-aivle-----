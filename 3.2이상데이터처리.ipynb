{
 "cells": [
  {
   "cell_type": "markdown",
   "metadata": {},
   "source": [
    "# 데이터 전처리 이해와 실무\n",
    "### 이상치를 처리하는 방법\n",
    " - 1. z-score\n",
    " - 2. IQR"
   ]
  },
  {
   "cell_type": "code",
   "execution_count": 1,
   "metadata": {},
   "outputs": [],
   "source": [
    "import numpy as np\n",
    "import pandas as pd\n",
    "import scipy"
   ]
  },
  {
   "cell_type": "markdown",
   "metadata": {},
   "source": [
    "**이상치 처리하기**\n",
    "이상치 확인 방안 및 삭제하기\n",
    " - 1. z-score\n",
    " - 2. IQR\n",
    "- Z-score 수식\n",
    "    - Z = (x-means) / (std_dev)\n",
    "    - Z = (해당 관측치 - 관측치 변수 평균) / (관측치 변수의 표준편차)"
   ]
  },
  {
   "cell_type": "code",
   "execution_count": 2,
   "metadata": {},
   "outputs": [
    {
     "ename": "NameError",
     "evalue": "name 'click_copy' is not defined",
     "output_type": "error",
     "traceback": [
      "\u001b[1;31m---------------------------------------------------------------------------\u001b[0m",
      "\u001b[1;31mNameError\u001b[0m                                 Traceback (most recent call last)",
      "Cell \u001b[1;32mIn[2], line 2\u001b[0m\n\u001b[0;32m      1\u001b[0m \u001b[38;5;66;03m# Z-score 컬럼 생성\u001b[39;00m\n\u001b[1;32m----> 2\u001b[0m click_copy[\u001b[38;5;124m'\u001b[39m\u001b[38;5;124mz-score\u001b[39m\u001b[38;5;124m'\u001b[39m] \u001b[38;5;241m=\u001b[39m (click_copy[\u001b[38;5;124m'\u001b[39m\u001b[38;5;124mnum_click\u001b[39m\u001b[38;5;124m'\u001b[39m] \u001b[38;5;241m-\u001b[39m np\u001b[38;5;241m.\u001b[39mmean(click_copy[\u001b[38;5;124m'\u001b[39m\u001b[38;5;124mnum_click\u001b[39m\u001b[38;5;124m'\u001b[39m])) \u001b[38;5;241m/\u001b[39m np\u001b[38;5;241m.\u001b[39mstrd(click_copy[\u001b[38;5;124m'\u001b[39m\u001b[38;5;124mnum_click\u001b[39m\u001b[38;5;124m'\u001b[39m])\n",
      "\u001b[1;31mNameError\u001b[0m: name 'click_copy' is not defined"
     ]
    }
   ],
   "source": [
    "# Z-score 컬럼 생성\n",
    "click_copy['z-score'] = (click_copy['num_click'] - np.mean(click_copy['num_click'])) / np.strd(click_copy['num_click'])\n"
   ]
  },
  {
   "cell_type": "code",
   "execution_count": null,
   "metadata": {},
   "outputs": [],
   "source": [
    "# 이상치 처리하기(삭제)\n",
    "# Z-score 기반 이상치 제거 후 데이터 차원 확인\n",
    "click_copy= click_copy[(click_copy['z-score']<3) & (click_copy['z-score']) > -3]"
   ]
  },
  {
   "cell_type": "markdown",
   "metadata": {},
   "source": [
    "위처럼 수식을 통해 Z-score를 구할수 있지만 \n",
    "scipy.stats의 zscore 함수를 사용할수 있다"
   ]
  },
  {
   "cell_type": "code",
   "execution_count": null,
   "metadata": {},
   "outputs": [],
   "source": [
    "from scipy.stats import zscore\n",
    "click_copy['z-score'] = zscore(click_copy['num_click'])\n",
    "click_copy= click_copy[(click_copy['z-score']<3) & (click_copy['z-score']) > -3]"
   ]
  },
  {
   "cell_type": "markdown",
   "metadata": {},
   "source": [
    "**IQR**"
   ]
  },
  {
   "cell_type": "code",
   "execution_count": null,
   "metadata": {},
   "outputs": [],
   "source": [
    "q1= click_copy['num_click'].quantile(0.25)# 1분위수\n",
    "q3= click_copy['num_click'].quantile(0.75)# 3분위수\n",
    "\n",
    "iqr = (q3-q1)\n",
    "click_copy= click_copy[(click_copy['num_click']<q3 + 1.5*iqr) & (click_copy['z-score']) > q1 - 1.5*iqr]"
   ]
  },
  {
   "cell_type": "markdown",
   "metadata": {},
   "source": [
    "**이상치 대체하기**"
   ]
  },
  {
   "cell_type": "code",
   "execution_count": null,
   "metadata": {},
   "outputs": [],
   "source": [
    "# 이상치 대체\n",
    "# 원 데이터 copy\n",
    "click_copy = click_data.copy()"
   ]
  },
  {
   "cell_type": "code",
   "execution_count": null,
   "metadata": {},
   "outputs": [],
   "source": [
    "# 대체할 기준 선정\n",
    "max_click = 100"
   ]
  },
  {
   "cell_type": "code",
   "execution_count": null,
   "metadata": {},
   "outputs": [],
   "source": [
    "# 기준치 이상 값은 기준치로 변환하여 저장 \n",
    "click_copy['new_click_num'] = click_copy['num_click']\n",
    "\n",
    "# 이상치 대체 \n",
    "click_copy.loc[click_copy['new_click_num'] > max_click, 'new_click_num'] = max_click # lic는 해당하는 index에 대해 결과 반환 \n",
    "# 즉 max 이상의 이상치는 max로 대체되도록 함 \n"
   ]
  },
  {
   "cell_type": "markdown",
   "metadata": {},
   "source": [
    "- 일반적으로 이상치 대체 및 변경은 기존 도메인 지식 및 현업 담당자와의 협의를 통해 진행\n",
    "\n",
    "- 위 데이터 예제에서 기사 클릭수의 Max 값을 1000회로 정의할 수도 있음"
   ]
  }
 ],
 "metadata": {
  "kernelspec": {
   "display_name": "Python 3",
   "language": "python",
   "name": "python3"
  },
  "language_info": {
   "codemirror_mode": {
    "name": "ipython",
    "version": 3
   },
   "file_extension": ".py",
   "mimetype": "text/x-python",
   "name": "python",
   "nbconvert_exporter": "python",
   "pygments_lexer": "ipython3",
   "version": "3.12.4"
  }
 },
 "nbformat": 4,
 "nbformat_minor": 2
}
