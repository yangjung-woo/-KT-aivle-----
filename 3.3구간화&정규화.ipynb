{
 "cells": [
  {
   "cell_type": "markdown",
   "metadata": {},
   "source": [
    "**구간화(Binning)**\n",
    "- 연속형 데이터를 구간으로 구별하여 범주화 형태 변환 \n",
    "    1. 지정 길이 기반 구간 정의: 사용자 기준으로 데이터 범위의 간격을 구분 \n",
    "    2. 분포 기반 구간 정의: 관측치가 구간 내 동일한 개수로 구분되도록 나누기"
   ]
  },
  {
   "cell_type": "code",
   "execution_count": 1,
   "metadata": {},
   "outputs": [
    {
     "ename": "NameError",
     "evalue": "name 'np' is not defined",
     "output_type": "error",
     "traceback": [
      "\u001b[1;31m---------------------------------------------------------------------------\u001b[0m",
      "\u001b[1;31mNameError\u001b[0m                                 Traceback (most recent call last)",
      "Cell \u001b[1;32mIn[1], line 4\u001b[0m\n\u001b[0;32m      1\u001b[0m \u001b[38;5;66;03m# 지정 길이 기반 구간화\u001b[39;00m\n\u001b[0;32m      2\u001b[0m \u001b[38;5;66;03m# 클릭수 [0 100 500 max ] 에 맞춰 3개로 구간화 \u001b[39;00m\n\u001b[1;32m----> 4\u001b[0m bins \u001b[38;5;241m=\u001b[39m [\u001b[38;5;241m0\u001b[39m,\u001b[38;5;241m100\u001b[39m,\u001b[38;5;241m500\u001b[39m,np\u001b[38;5;241m.\u001b[39mmax(click_copy[\u001b[38;5;124m'\u001b[39m\u001b[38;5;124mnum_click\u001b[39m\u001b[38;5;124m'\u001b[39m])]\n\u001b[0;32m      5\u001b[0m names \u001b[38;5;241m=\u001b[39m [\u001b[38;5;124m'\u001b[39m\u001b[38;5;124mlow\u001b[39m\u001b[38;5;124m'\u001b[39m,\u001b[38;5;124m'\u001b[39m\u001b[38;5;124mmedium\u001b[39m\u001b[38;5;124m'\u001b[39m,\u001b[38;5;124m'\u001b[39m\u001b[38;5;124mhigh\u001b[39m\u001b[38;5;124m'\u001b[39m]\n\u001b[0;32m      7\u001b[0m \u001b[38;5;66;03m# cut 함수 활용 기반 구간설정 (사용자 기준)\u001b[39;00m\n",
      "\u001b[1;31mNameError\u001b[0m: name 'np' is not defined"
     ]
    }
   ],
   "source": [
    "# 지정 길이 기반 구간화\n",
    "# 클릭수 [0 100 500 max ] 에 맞춰 3개로 구간화 \n",
    "\n",
    "bins = [0,100,500,np.max(click_copy['num_click'])]\n",
    "names = ['low','medium','high']\n",
    "\n",
    "# cut 함수 활용 기반 구간설정 (사용자 기준)\n",
    "click_copy['pref'] = pd.cut(click_copy['num_click'] , bins , labels=names)"
   ]
  },
  {
   "cell_type": "code",
   "execution_count": null,
   "metadata": {},
   "outputs": [],
   "source": [
    "# 분포 길이 기반 구간화 \n",
    "# qcut의 경우 각 구간마다 동일한 관측치가 배치되도록 분할 \n",
    "\n",
    "n= 3# 구간수 \n",
    "click_copy['pref_qcut'] = pd.qcut(click_copy['num_click'] ,n , labels=names)\n"
   ]
  },
  {
   "cell_type": "markdown",
   "metadata": {},
   "source": [
    "**만일 qcut 실행시 주로 발생하는 오류**\n",
    "- 데이터가 극단치의 Skewed한 경우 발생\n",
    "- 데이터의 각 구간은 동일할 수 없기 때문 \n",
    "    - [1,1,1,1,1,1,3,8,10] 이라는 구간은 생성 불가능 \n",
    "- 그러한 경우에는 분포 기반 구간화(qcut) 보다 사용자 기준 기반 구간화 고려 "
   ]
  },
  {
   "cell_type": "markdown",
   "metadata": {},
   "source": [
    "**정규화(Nomalization)**\n",
    "- 데이터 탐색 및 기계학습 적용을 위한 연속형 변수 반환 \n",
    "    1. 최대- 최소 정규화: 데이터 구간을 0~1사이로 변환 , min-max scaling , 특정 데이터 위치 파악\n",
    "    2. Z-점수 정규화: 0을 중심으로 양쪽으로 데이터를 분포시킴 , 특정데이터가 평균과 얼마나 떨어져 있는지 파악"
   ]
  },
  {
   "cell_type": "code",
   "execution_count": null,
   "metadata": {},
   "outputs": [],
   "source": [
    "# min - max scaling \n",
    "from sklearn.preprocessing import MinMaxScaler\n",
    "\n",
    "scaler = MinMaxScaler()\n",
    "\n",
    "# 데이터 copy\n",
    "click_copy = click_data.copy()\n",
    "\n",
    "# 변환\n",
    "click_copy['minmax_values'] = scaler.fit_transform(click_copy[['num_click']])\n"
   ]
  },
  {
   "cell_type": "code",
   "execution_count": null,
   "metadata": {},
   "outputs": [],
   "source": [
    "# Z-score 정규화  == 표준화 라고도 부른다 (평균 =0 ,  표준편차 =1)\n",
    "from sklearn.preprocessing import StandardScaler\n",
    "std_scaler = StandardScaler()\n",
    "\n",
    "#변환\n",
    "click_copy['std_values'] = std_scaler.fit_transform(click_copy[('num_click')])"
   ]
  },
  {
   "cell_type": "markdown",
   "metadata": {},
   "source": [
    "**Q. 정규화시 어떤게 더 좋나요? Z-score vs min-max**\n",
    "- A. 상황에 따라 달라지며, 정규화 수행과 수행하지 않은 결과의 차이가 큰 것이 중요한 포인트이다\n",
    "- 연속형 데이터를 기계학습 모델링에 적용하기 위해서 변수 간의 상대적 크기 차이를 제거할 필요가 반드시 존재\n",
    "- EX\n",
    "    - 대표적 비지도군집분석 중 Kmeans는 수치형 변수로 적용하는 알고리즘\n",
    "    - 변수간 수치적 Distance 를 연산하여 유사한 집단으로 묶는 알고리즘 \n",
    "    - 변수가 각자 다른 범위를 가진 경우 유사집단 구성시, 변수간 영향력 차이가 반영되어 올바르지 못한 결과 도출 가능성이 존재 "
   ]
  }
 ],
 "metadata": {
  "kernelspec": {
   "display_name": "base",
   "language": "python",
   "name": "python3"
  },
  "language_info": {
   "codemirror_mode": {
    "name": "ipython",
    "version": 3
   },
   "file_extension": ".py",
   "mimetype": "text/x-python",
   "name": "python",
   "nbconvert_exporter": "python",
   "pygments_lexer": "ipython3",
   "version": "3.12.4"
  }
 },
 "nbformat": 4,
 "nbformat_minor": 2
}
